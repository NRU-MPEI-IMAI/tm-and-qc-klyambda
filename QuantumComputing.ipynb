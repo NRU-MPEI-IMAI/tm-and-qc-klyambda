{
  "nbformat": 4,
  "nbformat_minor": 0,
  "metadata": {
    "colab": {
      "name": "QuantumComputing.ipynb",
      "provenance": [],
      "collapsed_sections": []
    },
    "kernelspec": {
      "name": "python3",
      "display_name": "Python 3"
    },
    "language_info": {
      "name": "python"
    }
  },
  "cells": [
    {
      "cell_type": "code",
      "source": [
        "!pip install qiskit\n",
        "!pip install pylatexenc"
      ],
      "metadata": {
        "id": "2tyZe160XrzG"
      },
      "execution_count": null,
      "outputs": []
    },
    {
      "cell_type": "code",
      "execution_count": null,
      "metadata": {
        "id": "_gpfXXQXXnFF"
      },
      "outputs": [],
      "source": [
        "from qiskit import QuantumCircuit, QuantumRegister\n",
        "from qiskit.quantum_info import Statevector\n",
        "import math\n",
        "import numpy as np"
      ]
    },
    {
      "cell_type": "markdown",
      "source": [
        "## Задача 1. Генерация суперпозиций.\n",
        "\n",
        "Дано N кубитов ($1 \\le N \\le 8$) в нулевом состоянии |0..0>. Также дана некоторая последовательность битов, которое задает ненулевое базисное состояние размера N. Задача получить суперпозицию нулевого состояния и заданного.\n",
        "$$|S> = \\frac{1}{\\sqrt2}(|0..0> + |\\psi>)$$\n",
        "Первый элемент массива $\\psi$ равен 1. "
      ],
      "metadata": {
        "id": "MkamP6MAZ_kj"
      }
    },
    {
      "cell_type": "code",
      "source": [
        "N = np.random.randint(5, 8)\n",
        "print('N = ', N)\n",
        "q = QuantumRegister(N, name='qs')   \n",
        "bits = []\n",
        "bits.append(1)\n",
        "for i in range(1, N):\n",
        "    bits.append(np.random.choice([0, 1]))\n",
        "\n",
        "print('psi = ', bits)"
      ],
      "metadata": {
        "colab": {
          "base_uri": "https://localhost:8080/"
        },
        "id": "dP3OFsZ5Xnf0",
        "outputId": "98eac0d8-7c1c-4f1b-a67d-2c414db35169"
      },
      "execution_count": null,
      "outputs": [
        {
          "output_type": "stream",
          "name": "stdout",
          "text": [
            "N =  7\n",
            "psi =  [1, 1, 1, 1, 0, 0, 1]\n"
          ]
        }
      ]
    },
    {
      "cell_type": "code",
      "source": [
        "def Solve1(qs, psi):\n",
        "    global circuit\n",
        "    # применяем оператор Адамара для первого кубита\n",
        "    circuit.h(0) \n",
        "    circuit.barrier()\n",
        "    # для всех единичных кубитов применяем оператор CNOT с первым\n",
        "    for i in range (1, len(psi)):\n",
        "        if psi[i] == 1: circuit.cx(qs[0], qs[i])\n",
        "\n",
        "circuit = QuantumCircuit(q)\n",
        "Solve1(q, bits)"
      ],
      "metadata": {
        "id": "P3-GgTlTXpDo"
      },
      "execution_count": null,
      "outputs": []
    },
    {
      "cell_type": "code",
      "source": [
        "circuit.draw(output='mpl', initial_state=True)"
      ],
      "metadata": {
        "colab": {
          "base_uri": "https://localhost:8080/",
          "height": 367
        },
        "id": "neY3zUHwcIro",
        "outputId": "b758b741-a3da-4a31-b347-eb28b2164c37"
      },
      "execution_count": null,
      "outputs": [
        {
          "output_type": "execute_result",
          "data": {
            "text/plain": [
              "<Figure size 502.454x445.48 with 1 Axes>"
            ],
            "image/png": "[encoded data removed]"
          },
          "metadata": {},
          "execution_count": 5
        }
      ]
    },
    {
      "cell_type": "code",
      "source": [
        "circuit.draw(output='latex_source',initial_state=True)"
      ],
      "metadata": {
        "colab": {
          "base_uri": "https://localhost:8080/",
          "height": 244
        },
        "id": "elNF6c5BYg9f",
        "outputId": "2a11f6a7-e5f6-4e44-f49c-18d4aa799d76"
      },
      "execution_count": null,
      "outputs": [
        {
          "output_type": "execute_result",
          "data": {
            "text/plain": [
              "'\\\\documentclass[border=2px]{standalone}\\n\\n\\\\usepackage[braket, qm]{qcircuit}\\n\\\\usepackage{graphicx}\\n\\n\\\\begin{document}\\n\\\\scalebox{1.0}{\\n\\\\Qcircuit @C=1.0em @R=0.2em @!R { \\\\\\\\\\n\\t \\t\\\\nghost{{qs}_{0} : \\\\ket{{0}} } & \\\\lstick{{qs}_{0} : \\\\ket{{0}} } & \\\\gate{\\\\mathrm{H}} \\\\barrier[0em]{6} & \\\\qw & \\\\ctrl{1} & \\\\ctrl{2} & \\\\ctrl{3} & \\\\ctrl{6} & \\\\qw & \\\\qw\\\\\\\\\\n\\t \\t\\\\nghost{{qs}_{1} : \\\\ket{{0}} } & \\\\lstick{{qs}_{1} : \\\\ket{{0}} } & \\\\qw & \\\\qw & \\\\targ & \\\\qw & \\\\qw & \\\\qw & \\\\qw & \\\\qw\\\\\\\\\\n\\t \\t\\\\nghost{{qs}_{2} : \\\\ket{{0}} } & \\\\lstick{{qs}_{2} : \\\\ket{{0}} } & \\\\qw & \\\\qw & \\\\qw & \\\\targ & \\\\qw & \\\\qw & \\\\qw & \\\\qw\\\\\\\\\\n\\t \\t\\\\nghost{{qs}_{3} : \\\\ket{{0}} } & \\\\lstick{{qs}_{3} : \\\\ket{{0}} } & \\\\qw & \\\\qw & \\\\qw & \\\\qw & \\\\targ & \\\\qw & \\\\qw & \\\\qw\\\\\\\\\\n\\t \\t\\\\nghost{{qs}_{4} : \\\\ket{{0}} } & \\\\lstick{{qs}_{4} : \\\\ket{{0}} } & \\\\qw & \\\\qw & \\\\qw & \\\\qw & \\\\qw & \\\\qw & \\\\qw & \\\\qw\\\\\\\\\\n\\t \\t\\\\nghost{{qs}_{5} : \\\\ket{{0}} } & \\\\lstick{{qs}_{5} : \\\\ket{{0}} } & \\\\qw & \\\\qw & \\\\qw & \\\\qw & \\\\qw & \\\\qw & \\\\qw & \\\\qw\\\\\\\\\\n\\t \\t\\\\nghost{{qs}_{6} : \\\\ket{{0}} } & \\\\lstick{{qs}_{6} : \\\\ket{{0}} } & \\\\qw & \\\\qw & \\\\qw & \\\\qw & \\\\qw & \\\\targ & \\\\qw & \\\\qw\\\\\\\\\\n\\\\\\\\ }}\\n\\\\end{document}'"
            ],
            "application/vnd.google.colaboratory.intrinsic+json": {
              "type": "string"
            }
          },
          "metadata": {},
          "execution_count": 6
        }
      ]
    },
    {
      "cell_type": "markdown",
      "source": [
        "## Задача 2. Различение состояний 1"
      ],
      "metadata": {
        "id": "KYaSE4OYaCjo"
      }
    },
    {
      "cell_type": "code",
      "source": [
        "N = np.random.randint(1, 8)\n",
        "print('N = ', N)\n",
        "\n",
        "GHZ = [1/math.sqrt(2)]\n",
        "for i in range (1, 2**N-1):\n",
        "    GHZ.append(0)\n",
        "GHZ.append(1/math.sqrt(2))\n",
        "\n",
        "GHZ = Statevector(GHZ)\n",
        "GHZ.draw('latex')"
      ],
      "metadata": {
        "colab": {
          "base_uri": "https://localhost:8080/",
          "height": 58
        },
        "id": "ScYrpy_yF0vd",
        "outputId": "fa36c0fc-330c-4017-8e16-7221dc52664e"
      },
      "execution_count": null,
      "outputs": [
        {
          "output_type": "stream",
          "name": "stdout",
          "text": [
            "N =  4\n"
          ]
        },
        {
          "output_type": "execute_result",
          "data": {
            "text/plain": [
              "<IPython.core.display.Latex object>"
            ],
            "text/latex": "$$\\frac{\\sqrt{2}}{2} |0000\\rangle+\\frac{\\sqrt{2}}{2} |1111\\rangle$$"
          },
          "metadata": {},
          "execution_count": 7
        }
      ]
    },
    {
      "cell_type": "code",
      "source": [
        "np.log2(10) % 1"
      ],
      "metadata": {
        "colab": {
          "base_uri": "https://localhost:8080/"
        },
        "id": "hYrV57YiPtU4",
        "outputId": "b1ad9cee-1992-4861-ecff-091088d3e9df"
      },
      "execution_count": null,
      "outputs": [
        {
          "output_type": "execute_result",
          "data": {
            "text/plain": [
              "0.3219280948873622"
            ]
          },
          "metadata": {},
          "execution_count": 8
        }
      ]
    },
    {
      "cell_type": "code",
      "source": [
        "W = [0]\n",
        "for i in range (1, 2**N):\n",
        "    if np.log2(i) % 1:\n",
        "        W.append(0)\n",
        "    else:\n",
        "        W.append(1/math.sqrt(N))\n",
        "W = Statevector(W)\n",
        "W.draw('latex')"
      ],
      "metadata": {
        "colab": {
          "base_uri": "https://localhost:8080/",
          "height": 38
        },
        "id": "6DMLWeeqGIVt",
        "outputId": "8e7aed94-10e9-40ac-f68c-d99915eed43e"
      },
      "execution_count": null,
      "outputs": [
        {
          "output_type": "execute_result",
          "data": {
            "text/plain": [
              "<IPython.core.display.Latex object>"
            ],
            "text/latex": "$$\\frac{1}{2} |0001\\rangle+\\frac{1}{2} |0010\\rangle+\\frac{1}{2} |0100\\rangle+\\frac{1}{2} |1000\\rangle$$"
          },
          "metadata": {},
          "execution_count": 9
        }
      ]
    },
    {
      "cell_type": "markdown",
      "source": [
        "* Первое состояние: при измерении все кубиты равны 0 или 1.\n",
        "* Второе состояние: при измерении только один кубит равен 1, остальные равны 0\n",
        "\n",
        "При N = 1 различить состояния невозможно (в этом случае - |W>)"
      ],
      "metadata": {
        "id": "xIa6IHMPKNMB"
      }
    },
    {
      "cell_type": "code",
      "source": [
        "def Solve2(q):\n",
        "    msr = q.measure()[0]\n",
        "    one_count = 0\n",
        "    for q in msr:\n",
        "        if q == '1': one_count += 1\n",
        "    if one_count == 1:\n",
        "        return 'W'\n",
        "    else:\n",
        "        return 'GHZ'\n",
        "\n",
        "Solve2(GHZ)"
      ],
      "metadata": {
        "colab": {
          "base_uri": "https://localhost:8080/",
          "height": 35
        },
        "id": "MSkLYfQgJ6nj",
        "outputId": "42c1c1df-53f7-4811-a51a-2ead75fb5394"
      },
      "execution_count": null,
      "outputs": [
        {
          "output_type": "execute_result",
          "data": {
            "text/plain": [
              "'GHZ'"
            ],
            "application/vnd.google.colaboratory.intrinsic+json": {
              "type": "string"
            }
          },
          "metadata": {},
          "execution_count": 10
        }
      ]
    },
    {
      "cell_type": "markdown",
      "source": [
        "## Задача 2. Различение состояний 2"
      ],
      "metadata": {
        "id": "DMFZyacBMHBH"
      }
    },
    {
      "cell_type": "code",
      "source": [
        "S0 = Statevector([1/2, 1/2, 1/2, 1/2])\n",
        "S1 = Statevector([1/2, -1/2, 1/2, -1/2])\n",
        "S2 = Statevector([1/2, 1/2, -1/2, -1/2])\n",
        "S3 = Statevector([1/2, -1/2, -1/2, 1/2])"
      ],
      "metadata": {
        "id": "h7oJz38_MHVW"
      },
      "execution_count": null,
      "outputs": []
    },
    {
      "cell_type": "code",
      "source": [
        "S0.draw('latex')"
      ],
      "metadata": {
        "colab": {
          "base_uri": "https://localhost:8080/",
          "height": 38
        },
        "id": "CdLTad6PNLBq",
        "outputId": "06926ed2-79ee-474e-9d65-af0f58e7f07c"
      },
      "execution_count": null,
      "outputs": [
        {
          "output_type": "execute_result",
          "data": {
            "text/plain": [
              "<IPython.core.display.Latex object>"
            ],
            "text/latex": "$$\\frac{1}{2} |00\\rangle+\\frac{1}{2} |01\\rangle+\\frac{1}{2} |10\\rangle+\\frac{1}{2} |11\\rangle$$"
          },
          "metadata": {},
          "execution_count": 12
        }
      ]
    },
    {
      "cell_type": "code",
      "source": [
        "S1.draw('latex')"
      ],
      "metadata": {
        "colab": {
          "base_uri": "https://localhost:8080/",
          "height": 38
        },
        "id": "4TCRjQcWSc3j",
        "outputId": "15ce0079-3405-454a-a57f-1c5289bc299d"
      },
      "execution_count": null,
      "outputs": [
        {
          "output_type": "execute_result",
          "data": {
            "text/plain": [
              "<IPython.core.display.Latex object>"
            ],
            "text/latex": "$$\\frac{1}{2} |00\\rangle- \\frac{1}{2} |01\\rangle+\\frac{1}{2} |10\\rangle- \\frac{1}{2} |11\\rangle$$"
          },
          "metadata": {},
          "execution_count": 13
        }
      ]
    },
    {
      "cell_type": "code",
      "source": [
        "S2.draw('latex')"
      ],
      "metadata": {
        "colab": {
          "base_uri": "https://localhost:8080/",
          "height": 38
        },
        "id": "2Y37_JzsSc6Y",
        "outputId": "deb69e2a-127a-43e9-9232-5184629ba83d"
      },
      "execution_count": null,
      "outputs": [
        {
          "output_type": "execute_result",
          "data": {
            "text/plain": [
              "<IPython.core.display.Latex object>"
            ],
            "text/latex": "$$\\frac{1}{2} |00\\rangle+\\frac{1}{2} |01\\rangle- \\frac{1}{2} |10\\rangle- \\frac{1}{2} |11\\rangle$$"
          },
          "metadata": {},
          "execution_count": 14
        }
      ]
    },
    {
      "cell_type": "code",
      "source": [
        "S3.draw('latex')"
      ],
      "metadata": {
        "colab": {
          "base_uri": "https://localhost:8080/",
          "height": 38
        },
        "id": "DZ-NpaDMSc-Y",
        "outputId": "1409cb02-f808-45f4-867a-e50e5dc6b5da"
      },
      "execution_count": null,
      "outputs": [
        {
          "output_type": "execute_result",
          "data": {
            "text/plain": [
              "<IPython.core.display.Latex object>"
            ],
            "text/latex": "$$\\frac{1}{2} |00\\rangle- \\frac{1}{2} |01\\rangle- \\frac{1}{2} |10\\rangle+\\frac{1}{2} |11\\rangle$$"
          },
          "metadata": {},
          "execution_count": 15
        }
      ]
    },
    {
      "cell_type": "code",
      "source": [
        "def Solve3(q):\n",
        "    global circuit\n",
        "    circuit.initialize(q)\n",
        "    circuit.h(0)\n",
        "    circuit.h(1)\n",
        "\n",
        "    state = Statevector(circuit)\n",
        "    msr = state.measure()[0]\n",
        "    if msr == '00':\n",
        "        return 0\n",
        "    elif msr == '01':\n",
        "        return 1\n",
        "    elif msr == '10':\n",
        "        return 2\n",
        "    elif msr == '11':\n",
        "        return 3\n",
        "\n",
        "circuit = QuantumCircuit(2)\n",
        "print(Solve3(S3))"
      ],
      "metadata": {
        "colab": {
          "base_uri": "https://localhost:8080/"
        },
        "id": "GUnu-nALN3vF",
        "outputId": "fd93b3b4-81e2-4b4d-900e-55075ea27841"
      },
      "execution_count": null,
      "outputs": [
        {
          "output_type": "stream",
          "name": "stdout",
          "text": [
            "3\n"
          ]
        }
      ]
    }
  ]
}